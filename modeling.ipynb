{
 "cells": [
  {
   "cell_type": "code",
   "execution_count": 1,
   "id": "5ab5b0e6",
   "metadata": {},
   "outputs": [],
   "source": [
    "import numpy as np\n",
    "import pandas as pd\n",
    "import itertools\n",
    "import scipy.stats as stats\n",
    "from scipy.stats import pearsonr\n",
    "\n",
    "import matplotlib.pyplot as plt\n",
    "import seaborn as sns\n",
    "\n",
    "from sklearn.model_selection import train_test_split\n",
    "\n",
    "from sklearn.metrics import mean_squared_error\n",
    "from sklearn.metrics import r2_score\n",
    "from sklearn.linear_model import LinearRegression\n",
    "from sklearn.feature_selection import RFE\n",
    "from sklearn.linear_model import LassoLars\n",
    "from sklearn.preprocessing import PolynomialFeatures\n",
    "from sklearn.linear_model import TweedieRegressor\n",
    "from sklearn.preprocessing import MinMaxScaler\n",
    "from sklearn.preprocessing import StandardScaler\n",
    "from sklearn.preprocessing import RobustScaler\n",
    "from sklearn.preprocessing import QuantileTransformer\n",
    "\n",
    "import env\n",
    "import wrangle as w\n",
    "import explore as e\n",
    "import prepare as p\n",
    "import evaluate as eva\n",
    "\n",
    "import warnings\n",
    "warnings.filterwarnings(\"ignore\")"
   ]
  },
  {
   "cell_type": "markdown",
   "id": "7a195cb2",
   "metadata": {},
   "source": [
    "# 1\n",
    "Select a dataset with a continuous target variable.\n",
    "# 2\n",
    "Be sure your data is prepared (no missing values, numeric datatypes) and split into samples.\n",
    "# 3\n",
    "Work through all of the steps outlined in the lesson, from setting the baseline to selected a model and evaluating the final model on your test data."
   ]
  },
  {
   "cell_type": "markdown",
   "id": "cdf8404b",
   "metadata": {},
   "source": [
    "# Wrangle\n",
    "\n",
    "- Acquired data from zillow.csv\n",
    "\n",
    "- Create dummy vars, handled in import function\n",
    "\n",
    "- Split data, handled with split data function\n",
    "\n",
    "- Scale data, handled with scaled data function"
   ]
  },
  {
   "cell_type": "code",
   "execution_count": 2,
   "id": "d9d158d5",
   "metadata": {},
   "outputs": [
    {
     "name": "stdout",
     "output_type": "stream",
     "text": [
      "csv file found and loaded\n"
     ]
    },
    {
     "data": {
      "text/html": [
       "<div>\n",
       "<style scoped>\n",
       "    .dataframe tbody tr th:only-of-type {\n",
       "        vertical-align: middle;\n",
       "    }\n",
       "\n",
       "    .dataframe tbody tr th {\n",
       "        vertical-align: top;\n",
       "    }\n",
       "\n",
       "    .dataframe thead th {\n",
       "        text-align: right;\n",
       "    }\n",
       "</style>\n",
       "<table border=\"1\" class=\"dataframe\">\n",
       "  <thead>\n",
       "    <tr style=\"text-align: right;\">\n",
       "      <th></th>\n",
       "      <th>taxvalue</th>\n",
       "      <th>bedrooms</th>\n",
       "      <th>bathrooms</th>\n",
       "      <th>sqft</th>\n",
       "      <th>built</th>\n",
       "      <th>fips</th>\n",
       "      <th>Orange</th>\n",
       "      <th>Ventura</th>\n",
       "    </tr>\n",
       "  </thead>\n",
       "  <tbody>\n",
       "    <tr>\n",
       "      <th>4</th>\n",
       "      <td>296425.0</td>\n",
       "      <td>4.0</td>\n",
       "      <td>2.0</td>\n",
       "      <td>3633.0</td>\n",
       "      <td>2005.0</td>\n",
       "      <td>LA</td>\n",
       "      <td>0</td>\n",
       "      <td>0</td>\n",
       "    </tr>\n",
       "    <tr>\n",
       "      <th>6</th>\n",
       "      <td>847770.0</td>\n",
       "      <td>3.0</td>\n",
       "      <td>4.0</td>\n",
       "      <td>1620.0</td>\n",
       "      <td>2011.0</td>\n",
       "      <td>LA</td>\n",
       "      <td>0</td>\n",
       "      <td>0</td>\n",
       "    </tr>\n",
       "    <tr>\n",
       "      <th>7</th>\n",
       "      <td>646760.0</td>\n",
       "      <td>3.0</td>\n",
       "      <td>2.0</td>\n",
       "      <td>2077.0</td>\n",
       "      <td>1926.0</td>\n",
       "      <td>LA</td>\n",
       "      <td>0</td>\n",
       "      <td>0</td>\n",
       "    </tr>\n",
       "    <tr>\n",
       "      <th>11</th>\n",
       "      <td>5328.0</td>\n",
       "      <td>0.0</td>\n",
       "      <td>0.0</td>\n",
       "      <td>1200.0</td>\n",
       "      <td>1972.0</td>\n",
       "      <td>LA</td>\n",
       "      <td>0</td>\n",
       "      <td>0</td>\n",
       "    </tr>\n",
       "    <tr>\n",
       "      <th>14</th>\n",
       "      <td>6920.0</td>\n",
       "      <td>0.0</td>\n",
       "      <td>0.0</td>\n",
       "      <td>171.0</td>\n",
       "      <td>1973.0</td>\n",
       "      <td>LA</td>\n",
       "      <td>0</td>\n",
       "      <td>0</td>\n",
       "    </tr>\n",
       "    <tr>\n",
       "      <th>...</th>\n",
       "      <td>...</td>\n",
       "      <td>...</td>\n",
       "      <td>...</td>\n",
       "      <td>...</td>\n",
       "      <td>...</td>\n",
       "      <td>...</td>\n",
       "      <td>...</td>\n",
       "      <td>...</td>\n",
       "    </tr>\n",
       "    <tr>\n",
       "      <th>2152856</th>\n",
       "      <td>422400.0</td>\n",
       "      <td>4.0</td>\n",
       "      <td>4.0</td>\n",
       "      <td>4375.0</td>\n",
       "      <td>2015.0</td>\n",
       "      <td>LA</td>\n",
       "      <td>0</td>\n",
       "      <td>0</td>\n",
       "    </tr>\n",
       "    <tr>\n",
       "      <th>2152858</th>\n",
       "      <td>960756.0</td>\n",
       "      <td>4.0</td>\n",
       "      <td>3.0</td>\n",
       "      <td>2262.0</td>\n",
       "      <td>2015.0</td>\n",
       "      <td>Orange</td>\n",
       "      <td>1</td>\n",
       "      <td>0</td>\n",
       "    </tr>\n",
       "    <tr>\n",
       "      <th>2152859</th>\n",
       "      <td>536061.0</td>\n",
       "      <td>4.0</td>\n",
       "      <td>4.5</td>\n",
       "      <td>3127.0</td>\n",
       "      <td>2014.0</td>\n",
       "      <td>Orange</td>\n",
       "      <td>1</td>\n",
       "      <td>0</td>\n",
       "    </tr>\n",
       "    <tr>\n",
       "      <th>2152861</th>\n",
       "      <td>424353.0</td>\n",
       "      <td>3.0</td>\n",
       "      <td>2.5</td>\n",
       "      <td>1974.0</td>\n",
       "      <td>2015.0</td>\n",
       "      <td>Orange</td>\n",
       "      <td>1</td>\n",
       "      <td>0</td>\n",
       "    </tr>\n",
       "    <tr>\n",
       "      <th>2152862</th>\n",
       "      <td>554009.0</td>\n",
       "      <td>4.0</td>\n",
       "      <td>4.0</td>\n",
       "      <td>2110.0</td>\n",
       "      <td>2014.0</td>\n",
       "      <td>LA</td>\n",
       "      <td>0</td>\n",
       "      <td>0</td>\n",
       "    </tr>\n",
       "  </tbody>\n",
       "</table>\n",
       "<p>2091459 rows × 8 columns</p>\n",
       "</div>"
      ],
      "text/plain": [
       "         taxvalue  bedrooms  bathrooms    sqft   built    fips  Orange  \\\n",
       "4        296425.0       4.0        2.0  3633.0  2005.0      LA       0   \n",
       "6        847770.0       3.0        4.0  1620.0  2011.0      LA       0   \n",
       "7        646760.0       3.0        2.0  2077.0  1926.0      LA       0   \n",
       "11         5328.0       0.0        0.0  1200.0  1972.0      LA       0   \n",
       "14         6920.0       0.0        0.0   171.0  1973.0      LA       0   \n",
       "...           ...       ...        ...     ...     ...     ...     ...   \n",
       "2152856  422400.0       4.0        4.0  4375.0  2015.0      LA       0   \n",
       "2152858  960756.0       4.0        3.0  2262.0  2015.0  Orange       1   \n",
       "2152859  536061.0       4.0        4.5  3127.0  2014.0  Orange       1   \n",
       "2152861  424353.0       3.0        2.5  1974.0  2015.0  Orange       1   \n",
       "2152862  554009.0       4.0        4.0  2110.0  2014.0      LA       0   \n",
       "\n",
       "         Ventura  \n",
       "4              0  \n",
       "6              0  \n",
       "7              0  \n",
       "11             0  \n",
       "14             0  \n",
       "...          ...  \n",
       "2152856        0  \n",
       "2152858        0  \n",
       "2152859        0  \n",
       "2152861        0  \n",
       "2152862        0  \n",
       "\n",
       "[2091459 rows x 8 columns]"
      ]
     },
     "execution_count": 2,
     "metadata": {},
     "output_type": "execute_result"
    }
   ],
   "source": [
    "# Acquired data from zillow.csv\n",
    "# Create dummy vars, handled in import function\n",
    "df = w.wrangle_zillow()\n",
    "df"
   ]
  },
  {
   "cell_type": "code",
   "execution_count": 3,
   "id": "d3bffe73",
   "metadata": {},
   "outputs": [
    {
     "data": {
      "text/html": [
       "<div>\n",
       "<style scoped>\n",
       "    .dataframe tbody tr th:only-of-type {\n",
       "        vertical-align: middle;\n",
       "    }\n",
       "\n",
       "    .dataframe tbody tr th {\n",
       "        vertical-align: top;\n",
       "    }\n",
       "\n",
       "    .dataframe thead th {\n",
       "        text-align: right;\n",
       "    }\n",
       "</style>\n",
       "<table border=\"1\" class=\"dataframe\">\n",
       "  <thead>\n",
       "    <tr style=\"text-align: right;\">\n",
       "      <th></th>\n",
       "      <th>taxvalue</th>\n",
       "      <th>bedrooms</th>\n",
       "      <th>bathrooms</th>\n",
       "      <th>sqft</th>\n",
       "      <th>built</th>\n",
       "      <th>fips</th>\n",
       "      <th>Orange</th>\n",
       "      <th>Ventura</th>\n",
       "    </tr>\n",
       "  </thead>\n",
       "  <tbody>\n",
       "    <tr>\n",
       "      <th>731916</th>\n",
       "      <td>148309.0</td>\n",
       "      <td>3.0</td>\n",
       "      <td>2.0</td>\n",
       "      <td>1488.0</td>\n",
       "      <td>1980.0</td>\n",
       "      <td>LA</td>\n",
       "      <td>0</td>\n",
       "      <td>0</td>\n",
       "    </tr>\n",
       "    <tr>\n",
       "      <th>1286889</th>\n",
       "      <td>199476.0</td>\n",
       "      <td>2.0</td>\n",
       "      <td>1.0</td>\n",
       "      <td>864.0</td>\n",
       "      <td>1947.0</td>\n",
       "      <td>LA</td>\n",
       "      <td>0</td>\n",
       "      <td>0</td>\n",
       "    </tr>\n",
       "    <tr>\n",
       "      <th>1105466</th>\n",
       "      <td>921624.0</td>\n",
       "      <td>4.0</td>\n",
       "      <td>3.0</td>\n",
       "      <td>2532.0</td>\n",
       "      <td>1987.0</td>\n",
       "      <td>LA</td>\n",
       "      <td>0</td>\n",
       "      <td>0</td>\n",
       "    </tr>\n",
       "    <tr>\n",
       "      <th>1535462</th>\n",
       "      <td>311969.0</td>\n",
       "      <td>2.0</td>\n",
       "      <td>1.0</td>\n",
       "      <td>1144.0</td>\n",
       "      <td>1951.0</td>\n",
       "      <td>LA</td>\n",
       "      <td>0</td>\n",
       "      <td>0</td>\n",
       "    </tr>\n",
       "    <tr>\n",
       "      <th>1948233</th>\n",
       "      <td>1155354.0</td>\n",
       "      <td>3.0</td>\n",
       "      <td>3.5</td>\n",
       "      <td>2840.0</td>\n",
       "      <td>2005.0</td>\n",
       "      <td>Orange</td>\n",
       "      <td>1</td>\n",
       "      <td>0</td>\n",
       "    </tr>\n",
       "  </tbody>\n",
       "</table>\n",
       "</div>"
      ],
      "text/plain": [
       "          taxvalue  bedrooms  bathrooms    sqft   built    fips  Orange  \\\n",
       "731916    148309.0       3.0        2.0  1488.0  1980.0      LA       0   \n",
       "1286889   199476.0       2.0        1.0   864.0  1947.0      LA       0   \n",
       "1105466   921624.0       4.0        3.0  2532.0  1987.0      LA       0   \n",
       "1535462   311969.0       2.0        1.0  1144.0  1951.0      LA       0   \n",
       "1948233  1155354.0       3.0        3.5  2840.0  2005.0  Orange       1   \n",
       "\n",
       "         Ventura  \n",
       "731916         0  \n",
       "1286889        0  \n",
       "1105466        0  \n",
       "1535462        0  \n",
       "1948233        0  "
      ]
     },
     "execution_count": 3,
     "metadata": {},
     "output_type": "execute_result"
    }
   ],
   "source": [
    "# split into train validate and test\n",
    "train, validate, test = p.split_data(df)\n",
    "train.head()"
   ]
  },
  {
   "cell_type": "code",
   "execution_count": 4,
   "id": "60388116",
   "metadata": {
    "scrolled": true
   },
   "outputs": [
    {
     "data": {
      "text/html": [
       "<div>\n",
       "<style scoped>\n",
       "    .dataframe tbody tr th:only-of-type {\n",
       "        vertical-align: middle;\n",
       "    }\n",
       "\n",
       "    .dataframe tbody tr th {\n",
       "        vertical-align: top;\n",
       "    }\n",
       "\n",
       "    .dataframe thead th {\n",
       "        text-align: right;\n",
       "    }\n",
       "</style>\n",
       "<table border=\"1\" class=\"dataframe\">\n",
       "  <thead>\n",
       "    <tr style=\"text-align: right;\">\n",
       "      <th></th>\n",
       "      <th>bedrooms</th>\n",
       "      <th>bathrooms</th>\n",
       "      <th>sqft</th>\n",
       "      <th>built</th>\n",
       "      <th>Orange</th>\n",
       "      <th>Ventura</th>\n",
       "    </tr>\n",
       "  </thead>\n",
       "  <tbody>\n",
       "    <tr>\n",
       "      <th>731916</th>\n",
       "      <td>0.1875</td>\n",
       "      <td>0.100</td>\n",
       "      <td>0.297459</td>\n",
       "      <td>0.832558</td>\n",
       "      <td>0.0</td>\n",
       "      <td>0.0</td>\n",
       "    </tr>\n",
       "    <tr>\n",
       "      <th>1286889</th>\n",
       "      <td>0.1250</td>\n",
       "      <td>0.050</td>\n",
       "      <td>0.172635</td>\n",
       "      <td>0.679070</td>\n",
       "      <td>0.0</td>\n",
       "      <td>0.0</td>\n",
       "    </tr>\n",
       "    <tr>\n",
       "      <th>1105466</th>\n",
       "      <td>0.2500</td>\n",
       "      <td>0.150</td>\n",
       "      <td>0.506301</td>\n",
       "      <td>0.865116</td>\n",
       "      <td>0.0</td>\n",
       "      <td>0.0</td>\n",
       "    </tr>\n",
       "    <tr>\n",
       "      <th>1535462</th>\n",
       "      <td>0.1250</td>\n",
       "      <td>0.050</td>\n",
       "      <td>0.228646</td>\n",
       "      <td>0.697674</td>\n",
       "      <td>0.0</td>\n",
       "      <td>0.0</td>\n",
       "    </tr>\n",
       "    <tr>\n",
       "      <th>1948233</th>\n",
       "      <td>0.1875</td>\n",
       "      <td>0.175</td>\n",
       "      <td>0.567914</td>\n",
       "      <td>0.948837</td>\n",
       "      <td>1.0</td>\n",
       "      <td>0.0</td>\n",
       "    </tr>\n",
       "  </tbody>\n",
       "</table>\n",
       "</div>"
      ],
      "text/plain": [
       "         bedrooms  bathrooms      sqft     built  Orange  Ventura\n",
       "731916     0.1875      0.100  0.297459  0.832558     0.0      0.0\n",
       "1286889    0.1250      0.050  0.172635  0.679070     0.0      0.0\n",
       "1105466    0.2500      0.150  0.506301  0.865116     0.0      0.0\n",
       "1535462    0.1250      0.050  0.228646  0.697674     0.0      0.0\n",
       "1948233    0.1875      0.175  0.567914  0.948837     1.0      0.0"
      ]
     },
     "execution_count": 4,
     "metadata": {},
     "output_type": "execute_result"
    }
   ],
   "source": [
    "## scale data\n",
    "X_train_scaled, X_validate_scaled, X_test_scaled, y_train, y_validate, y_test = p.scaled_df(train, validate, test)\n",
    "X_train_scaled.head()"
   ]
  },
  {
   "cell_type": "code",
   "execution_count": 5,
   "id": "e0630b45",
   "metadata": {},
   "outputs": [
    {
     "data": {
      "text/plain": [
       "(418292, 6)"
      ]
     },
     "execution_count": 5,
     "metadata": {},
     "output_type": "execute_result"
    }
   ],
   "source": [
    "X_validate_scaled.shape"
   ]
  },
  {
   "cell_type": "code",
   "execution_count": 6,
   "id": "8606498b",
   "metadata": {},
   "outputs": [
    {
     "data": {
      "text/plain": [
       "(418292,)"
      ]
     },
     "execution_count": 6,
     "metadata": {},
     "output_type": "execute_result"
    }
   ],
   "source": [
    "y_validate.shape"
   ]
  },
  {
   "cell_type": "code",
   "execution_count": 7,
   "id": "7f690671",
   "metadata": {},
   "outputs": [
    {
     "data": {
      "text/plain": [
       "731916      148309.0\n",
       "1286889     199476.0\n",
       "1105466     921624.0\n",
       "1535462     311969.0\n",
       "1948233    1155354.0\n",
       "Name: taxvalue, dtype: float64"
      ]
     },
     "execution_count": 7,
     "metadata": {},
     "output_type": "execute_result"
    }
   ],
   "source": [
    "y_train.head()"
   ]
  },
  {
   "cell_type": "markdown",
   "id": "2cb3b5f1",
   "metadata": {},
   "source": [
    "# Explore target, set baseline"
   ]
  },
  {
   "cell_type": "code",
   "execution_count": 8,
   "id": "a133a81a",
   "metadata": {},
   "outputs": [
    {
     "data": {
      "text/plain": [
       "394704.71"
      ]
     },
     "execution_count": 8,
     "metadata": {},
     "output_type": "execute_result"
    }
   ],
   "source": [
    "baseline = round(y_train.mean(),2)\n",
    "baseline"
   ]
  },
  {
   "cell_type": "code",
   "execution_count": 9,
   "id": "687557f1",
   "metadata": {},
   "outputs": [
    {
     "data": {
      "image/png": "[encoded data removed]",
      "text/plain": [
       "<Figure size 640x480 with 1 Axes>"
      ]
     },
     "metadata": {},
     "output_type": "display_data"
    }
   ],
   "source": [
    "#visualize baseline\n",
    "plt.hist(y_train)\n",
    "plt.xlabel(\"Value\")\n",
    "plt.ylabel(\"Number of houses\")\n",
    "plt.title('Distribution of home values')\n",
    "plt.show()"
   ]
  },
  {
   "cell_type": "code",
   "execution_count": 10,
   "id": "1e121a3e",
   "metadata": {},
   "outputs": [
    {
     "data": {
      "text/plain": [
       "array([394704.71, 394704.71, 394704.71, ..., 394704.71, 394704.71,\n",
       "       394704.71])"
      ]
     },
     "execution_count": 10,
     "metadata": {},
     "output_type": "execute_result"
    }
   ],
   "source": [
    "#make an array to send into my mean_square_error function\n",
    "baseline_array = np.repeat(baseline, len(train))\n",
    "baseline_array"
   ]
  },
  {
   "cell_type": "code",
   "execution_count": 11,
   "id": "79d40062",
   "metadata": {},
   "outputs": [
    {
     "data": {
      "text/plain": [
       "(307406.3577998372, 1.1102230246251565e-16)"
      ]
     },
     "execution_count": 11,
     "metadata": {},
     "output_type": "execute_result"
    }
   ],
   "source": [
    "# Evaluate the baseline rmse and r2\n",
    "rmse, r2 = eva.metrics_reg(y_train, baseline_array)\n",
    "rmse, r2"
   ]
  },
  {
   "cell_type": "code",
   "execution_count": 12,
   "id": "8d110fb5",
   "metadata": {},
   "outputs": [
    {
     "data": {
      "text/html": [
       "<div>\n",
       "<style scoped>\n",
       "    .dataframe tbody tr th:only-of-type {\n",
       "        vertical-align: middle;\n",
       "    }\n",
       "\n",
       "    .dataframe tbody tr th {\n",
       "        vertical-align: top;\n",
       "    }\n",
       "\n",
       "    .dataframe thead th {\n",
       "        text-align: right;\n",
       "    }\n",
       "</style>\n",
       "<table border=\"1\" class=\"dataframe\">\n",
       "  <thead>\n",
       "    <tr style=\"text-align: right;\">\n",
       "      <th></th>\n",
       "      <th>model</th>\n",
       "      <th>rmse</th>\n",
       "      <th>r2</th>\n",
       "    </tr>\n",
       "  </thead>\n",
       "  <tbody>\n",
       "    <tr>\n",
       "      <th>0</th>\n",
       "      <td>baseline</td>\n",
       "      <td>307406.3578</td>\n",
       "      <td>1.110223e-16</td>\n",
       "    </tr>\n",
       "  </tbody>\n",
       "</table>\n",
       "</div>"
      ],
      "text/plain": [
       "      model         rmse            r2\n",
       "0  baseline  307406.3578  1.110223e-16"
      ]
     },
     "execution_count": 12,
     "metadata": {},
     "output_type": "execute_result"
    }
   ],
   "source": [
    "# add results to a dataframe for comparison\n",
    "metrics_df = pd.DataFrame(data=[\n",
    "    {\n",
    "        'model':'baseline',\n",
    "        'rmse':rmse,\n",
    "        'r2':r2\n",
    "    }\n",
    "    \n",
    "])\n",
    "metrics_df"
   ]
  },
  {
   "cell_type": "markdown",
   "id": "c1e7042c",
   "metadata": {},
   "source": [
    "# OLS - Ordinary Least Squares\n",
    "- also using Recursive Feature Eliminations"
   ]
  },
  {
   "cell_type": "code",
   "execution_count": 162,
   "id": "e08997b2",
   "metadata": {},
   "outputs": [],
   "source": [
    "#### make it\n",
    "OLS = LinearRegression()\n",
    "#use Recursive Feature Eliminations\n",
    "rfe = RFE(OLS, n_features_to_select=6)\n",
    "#fit it\n",
    "rfe.fit(X_train_scaled, y_train)\n",
    "#use it on train\n",
    "X_train_rfe = rfe.transform(X_train_scaled)\n",
    "#use it on validate\n",
    "X_val_rfe = rfe.transform(X_validate_scaled)"
   ]
  },
  {
   "cell_type": "code",
   "execution_count": 163,
   "id": "5c04034d",
   "metadata": {},
   "outputs": [
    {
     "data": {
      "text/plain": [
       "(1254875, 6)"
      ]
     },
     "execution_count": 163,
     "metadata": {},
     "output_type": "execute_result"
    }
   ],
   "source": [
    "X_train_rfe.shape"
   ]
  },
  {
   "cell_type": "code",
   "execution_count": 164,
   "id": "277098ca",
   "metadata": {},
   "outputs": [
    {
     "data": {
      "text/plain": [
       "(418292, 6)"
      ]
     },
     "execution_count": 164,
     "metadata": {},
     "output_type": "execute_result"
    }
   ],
   "source": [
    "X_val_rfe.shape"
   ]
  },
  {
   "cell_type": "code",
   "execution_count": 165,
   "id": "73685a14",
   "metadata": {},
   "outputs": [
    {
     "data": {
      "text/plain": [
       "(418292,)"
      ]
     },
     "execution_count": 165,
     "metadata": {},
     "output_type": "execute_result"
    }
   ],
   "source": [
    "y_validate.shape"
   ]
  },
  {
   "cell_type": "code",
   "execution_count": 166,
   "id": "f1c312f4",
   "metadata": {
    "scrolled": true
   },
   "outputs": [
    {
     "name": "stdout",
     "output_type": "stream",
     "text": [
      "selected top feature: ['bedrooms' 'bathrooms' 'sqft' 'built' 'Orange' 'Ventura']\n"
     ]
    }
   ],
   "source": [
    "#see what the top features are regardless of location\n",
    "print('selected top feature:', rfe.get_feature_names_out())"
   ]
  },
  {
   "cell_type": "code",
   "execution_count": 167,
   "id": "ea6b3874",
   "metadata": {},
   "outputs": [
    {
     "data": {
      "text/plain": [
       "array([1, 1, 1, 1, 1, 1])"
      ]
     },
     "execution_count": 167,
     "metadata": {},
     "output_type": "execute_result"
    }
   ],
   "source": [
    "#get array of rfe rankings and choose top minus location\n",
    "rfe.ranking_"
   ]
  },
  {
   "cell_type": "code",
   "execution_count": 168,
   "id": "3e6f4d77",
   "metadata": {},
   "outputs": [
    {
     "data": {
      "text/plain": [
       "array([[0.1875    , 0.1       , 0.29745949, 0.83255814, 0.        ,\n",
       "        0.        ],\n",
       "       [0.125     , 0.05      , 0.17263453, 0.67906977, 0.        ,\n",
       "        0.        ],\n",
       "       [0.25      , 0.15      , 0.50630126, 0.86511628, 0.        ,\n",
       "        0.        ],\n",
       "       ...,\n",
       "       [0.25      , 0.15      , 0.52190438, 0.84186047, 1.        ,\n",
       "        0.        ],\n",
       "       [0.1875    , 0.05      , 0.25265053, 0.65581395, 0.        ,\n",
       "        0.        ],\n",
       "       [0.25      , 0.15      , 0.68893779, 0.70697674, 0.        ,\n",
       "        0.        ]])"
      ]
     },
     "execution_count": 168,
     "metadata": {},
     "output_type": "execute_result"
    }
   ],
   "source": [
    "# see whats in the rfe\n",
    "X_train_rfe"
   ]
  },
  {
   "cell_type": "code",
   "execution_count": 169,
   "id": "ed8f4034",
   "metadata": {},
   "outputs": [
    {
     "data": {
      "text/html": [
       "<div>\n",
       "<style scoped>\n",
       "    .dataframe tbody tr th:only-of-type {\n",
       "        vertical-align: middle;\n",
       "    }\n",
       "\n",
       "    .dataframe tbody tr th {\n",
       "        vertical-align: top;\n",
       "    }\n",
       "\n",
       "    .dataframe thead th {\n",
       "        text-align: right;\n",
       "    }\n",
       "</style>\n",
       "<table border=\"1\" class=\"dataframe\">\n",
       "  <thead>\n",
       "    <tr style=\"text-align: right;\">\n",
       "      <th></th>\n",
       "      <th>rfe_ranking</th>\n",
       "    </tr>\n",
       "  </thead>\n",
       "  <tbody>\n",
       "    <tr>\n",
       "      <th>bedrooms</th>\n",
       "      <td>1</td>\n",
       "    </tr>\n",
       "    <tr>\n",
       "      <th>bathrooms</th>\n",
       "      <td>1</td>\n",
       "    </tr>\n",
       "    <tr>\n",
       "      <th>sqft</th>\n",
       "      <td>1</td>\n",
       "    </tr>\n",
       "    <tr>\n",
       "      <th>built</th>\n",
       "      <td>1</td>\n",
       "    </tr>\n",
       "    <tr>\n",
       "      <th>Orange</th>\n",
       "      <td>1</td>\n",
       "    </tr>\n",
       "    <tr>\n",
       "      <th>Ventura</th>\n",
       "      <td>1</td>\n",
       "    </tr>\n",
       "  </tbody>\n",
       "</table>\n",
       "</div>"
      ],
      "text/plain": [
       "           rfe_ranking\n",
       "bedrooms             1\n",
       "bathrooms            1\n",
       "sqft                 1\n",
       "built                1\n",
       "Orange               1\n",
       "Ventura              1"
      ]
     },
     "execution_count": 169,
     "metadata": {},
     "output_type": "execute_result"
    }
   ],
   "source": [
    "#put results into a dataframe\n",
    "pd.DataFrame(\n",
    "{'rfe_ranking':rfe.ranking_},\n",
    "index=X_train_scaled.columns)"
   ]
  },
  {
   "cell_type": "code",
   "execution_count": 170,
   "id": "b2523ac5",
   "metadata": {},
   "outputs": [
    {
     "data": {
      "text/plain": [
       "array([ True,  True,  True,  True,  True,  True])"
      ]
     },
     "execution_count": 170,
     "metadata": {},
     "output_type": "execute_result"
    }
   ],
   "source": [
    "# make a mask for the rfe\n",
    "rfe.get_support()"
   ]
  },
  {
   "cell_type": "code",
   "execution_count": 171,
   "id": "10581763",
   "metadata": {
    "scrolled": true
   },
   "outputs": [
    {
     "data": {
      "text/html": [
       "<div>\n",
       "<style scoped>\n",
       "    .dataframe tbody tr th:only-of-type {\n",
       "        vertical-align: middle;\n",
       "    }\n",
       "\n",
       "    .dataframe tbody tr th {\n",
       "        vertical-align: top;\n",
       "    }\n",
       "\n",
       "    .dataframe thead th {\n",
       "        text-align: right;\n",
       "    }\n",
       "</style>\n",
       "<table border=\"1\" class=\"dataframe\">\n",
       "  <thead>\n",
       "    <tr style=\"text-align: right;\">\n",
       "      <th></th>\n",
       "      <th>bedrooms</th>\n",
       "      <th>bathrooms</th>\n",
       "      <th>sqft</th>\n",
       "      <th>built</th>\n",
       "      <th>Orange</th>\n",
       "      <th>Ventura</th>\n",
       "    </tr>\n",
       "  </thead>\n",
       "  <tbody>\n",
       "    <tr>\n",
       "      <th>731916</th>\n",
       "      <td>0.1875</td>\n",
       "      <td>0.100</td>\n",
       "      <td>0.297459</td>\n",
       "      <td>0.832558</td>\n",
       "      <td>0.0</td>\n",
       "      <td>0.0</td>\n",
       "    </tr>\n",
       "    <tr>\n",
       "      <th>1286889</th>\n",
       "      <td>0.1250</td>\n",
       "      <td>0.050</td>\n",
       "      <td>0.172635</td>\n",
       "      <td>0.679070</td>\n",
       "      <td>0.0</td>\n",
       "      <td>0.0</td>\n",
       "    </tr>\n",
       "    <tr>\n",
       "      <th>1105466</th>\n",
       "      <td>0.2500</td>\n",
       "      <td>0.150</td>\n",
       "      <td>0.506301</td>\n",
       "      <td>0.865116</td>\n",
       "      <td>0.0</td>\n",
       "      <td>0.0</td>\n",
       "    </tr>\n",
       "    <tr>\n",
       "      <th>1535462</th>\n",
       "      <td>0.1250</td>\n",
       "      <td>0.050</td>\n",
       "      <td>0.228646</td>\n",
       "      <td>0.697674</td>\n",
       "      <td>0.0</td>\n",
       "      <td>0.0</td>\n",
       "    </tr>\n",
       "    <tr>\n",
       "      <th>1948233</th>\n",
       "      <td>0.1875</td>\n",
       "      <td>0.175</td>\n",
       "      <td>0.567914</td>\n",
       "      <td>0.948837</td>\n",
       "      <td>1.0</td>\n",
       "      <td>0.0</td>\n",
       "    </tr>\n",
       "  </tbody>\n",
       "</table>\n",
       "</div>"
      ],
      "text/plain": [
       "         bedrooms  bathrooms      sqft     built  Orange  Ventura\n",
       "731916     0.1875      0.100  0.297459  0.832558     0.0      0.0\n",
       "1286889    0.1250      0.050  0.172635  0.679070     0.0      0.0\n",
       "1105466    0.2500      0.150  0.506301  0.865116     0.0      0.0\n",
       "1535462    0.1250      0.050  0.228646  0.697674     0.0      0.0\n",
       "1948233    0.1875      0.175  0.567914  0.948837     1.0      0.0"
      ]
     },
     "execution_count": 171,
     "metadata": {},
     "output_type": "execute_result"
    }
   ],
   "source": [
    "#apply the mask to the transformed data\n",
    "X_train_RFEtransformed = pd.DataFrame(\n",
    "    rfe.transform(X_train_scaled),\n",
    "    index=X_train_scaled.index,\n",
    "    columns=X_train_scaled.columns[rfe.support_])\n",
    "X_train_RFEtransformed.head()"
   ]
  },
  {
   "cell_type": "markdown",
   "id": "64ec29fd",
   "metadata": {},
   "source": [
    "### Build model"
   ]
  },
  {
   "cell_type": "code",
   "execution_count": 172,
   "id": "61b8cbb1",
   "metadata": {},
   "outputs": [],
   "source": [
    "# build model for the top features\n",
    "#fit the thing\n",
    "OLS.fit(X_train_rfe, y_train)\n",
    "#use the thing (make predictions)\n",
    "pred_OLS = OLS.predict(X_train_rfe)\n",
    "pred_val_OLS = OLS.predict(X_val_rfe)"
   ]
  },
  {
   "cell_type": "markdown",
   "id": "601d4f74",
   "metadata": {},
   "source": [
    "### Evaluate\n"
   ]
  },
  {
   "cell_type": "code",
   "execution_count": 173,
   "id": "cd8a818b",
   "metadata": {},
   "outputs": [
    {
     "data": {
      "text/plain": [
       "(248530.54711653356, 0.3463671644891865)"
      ]
     },
     "execution_count": 173,
     "metadata": {},
     "output_type": "execute_result"
    }
   ],
   "source": [
    "# Evaluate Train\n",
    "eva.metrics_reg(y_train, pred_OLS)"
   ]
  },
  {
   "cell_type": "code",
   "execution_count": 174,
   "id": "451555ce",
   "metadata": {},
   "outputs": [
    {
     "data": {
      "text/plain": [
       "(248945.0890125688, 0.34497739591566134)"
      ]
     },
     "execution_count": 174,
     "metadata": {},
     "output_type": "execute_result"
    }
   ],
   "source": [
    "# Evaluate Validate\n",
    "rmse, r2 = eva.metrics_reg(y_validate, pred_val_OLS)\n",
    "rmse, r2"
   ]
  },
  {
   "cell_type": "code",
   "execution_count": 175,
   "id": "acbf8a3a",
   "metadata": {},
   "outputs": [
    {
     "data": {
      "text/html": [
       "<div>\n",
       "<style scoped>\n",
       "    .dataframe tbody tr th:only-of-type {\n",
       "        vertical-align: middle;\n",
       "    }\n",
       "\n",
       "    .dataframe tbody tr th {\n",
       "        vertical-align: top;\n",
       "    }\n",
       "\n",
       "    .dataframe thead th {\n",
       "        text-align: right;\n",
       "    }\n",
       "</style>\n",
       "<table border=\"1\" class=\"dataframe\">\n",
       "  <thead>\n",
       "    <tr style=\"text-align: right;\">\n",
       "      <th></th>\n",
       "      <th>model</th>\n",
       "      <th>rmse</th>\n",
       "      <th>r2</th>\n",
       "    </tr>\n",
       "  </thead>\n",
       "  <tbody>\n",
       "    <tr>\n",
       "      <th>0</th>\n",
       "      <td>baseline</td>\n",
       "      <td>307406.357800</td>\n",
       "      <td>1.110223e-16</td>\n",
       "    </tr>\n",
       "    <tr>\n",
       "      <th>1</th>\n",
       "      <td>ols</td>\n",
       "      <td>248945.089013</td>\n",
       "      <td>3.449774e-01</td>\n",
       "    </tr>\n",
       "    <tr>\n",
       "      <th>2</th>\n",
       "      <td>MR</td>\n",
       "      <td>248945.089013</td>\n",
       "      <td>3.449774e-01</td>\n",
       "    </tr>\n",
       "    <tr>\n",
       "      <th>3</th>\n",
       "      <td>lars</td>\n",
       "      <td>248945.157726</td>\n",
       "      <td>3.449770e-01</td>\n",
       "    </tr>\n",
       "    <tr>\n",
       "      <th>4</th>\n",
       "      <td>pr</td>\n",
       "      <td>245012.630432</td>\n",
       "      <td>3.655081e-01</td>\n",
       "    </tr>\n",
       "    <tr>\n",
       "      <th>5</th>\n",
       "      <td>glm</td>\n",
       "      <td>249828.333694</td>\n",
       "      <td>3.403212e-01</td>\n",
       "    </tr>\n",
       "  </tbody>\n",
       "</table>\n",
       "</div>"
      ],
      "text/plain": [
       "      model           rmse            r2\n",
       "0  baseline  307406.357800  1.110223e-16\n",
       "1       ols  248945.089013  3.449774e-01\n",
       "2        MR  248945.089013  3.449774e-01\n",
       "3      lars  248945.157726  3.449770e-01\n",
       "4        pr  245012.630432  3.655081e-01\n",
       "5       glm  249828.333694  3.403212e-01"
      ]
     },
     "execution_count": 175,
     "metadata": {},
     "output_type": "execute_result"
    }
   ],
   "source": [
    "#add to my metrics df\n",
    "metrics_df.loc[1] = ['ols', rmse, r2]\n",
    "metrics_df"
   ]
  },
  {
   "cell_type": "markdown",
   "id": "9c3b65b2",
   "metadata": {},
   "source": [
    "### Examine the model"
   ]
  },
  {
   "cell_type": "code",
   "execution_count": 176,
   "id": "bd1af536",
   "metadata": {},
   "outputs": [
    {
     "data": {
      "text/plain": [
       "131876.31508952368"
      ]
     },
     "execution_count": 176,
     "metadata": {},
     "output_type": "execute_result"
    }
   ],
   "source": [
    "OLS.intercept_"
   ]
  },
  {
   "cell_type": "code",
   "execution_count": 177,
   "id": "1ba8aba7",
   "metadata": {},
   "outputs": [
    {
     "data": {
      "text/plain": [
       "array([-971119.45257143, 1127343.51268967, 1155874.95969705,\n",
       "       -112056.68791349,   39353.26272301,    3249.26188004])"
      ]
     },
     "execution_count": 177,
     "metadata": {},
     "output_type": "execute_result"
    }
   ],
   "source": [
    "OLS.coef_"
   ]
  },
  {
   "cell_type": "code",
   "execution_count": 178,
   "id": "00d337cb",
   "metadata": {},
   "outputs": [
    {
     "name": "stdout",
     "output_type": "stream",
     "text": [
      "final_grade = 1.32e+05 -9.7e+05*bedrooms + 1.1e+06*bathrooms + 1.2e+06*sqft -1.1e+05*built\n"
     ]
    }
   ],
   "source": [
    "print(f'final_grade = {OLS.intercept_:.3} {OLS.coef_[0]:.2}*bedrooms +\\\n",
    " {OLS.coef_[1]:.2}*bathrooms + {OLS.coef_[2]:.2}*sqft {OLS.coef_[3]:.2}*built')    "
   ]
  },
  {
   "cell_type": "code",
   "execution_count": 179,
   "id": "bdfc61fa",
   "metadata": {},
   "outputs": [
    {
     "name": "stdout",
     "output_type": "stream",
     "text": [
      "For every 1 point increase in Bedrooms, we predict a -971119.45 point decrease in Final Grade\n",
      "For every 1 point increase in Bathrooms, we predict a 1127343.51 point increase in Final Grade\n",
      "For every 1 point increase in Sqft, we predict a 1155874.96 point increase in Final Grade\n",
      "For every 1 point increase in Built, we predict a -971119.45 point decrease in Final Grade\n"
     ]
    }
   ],
   "source": [
    "print(f'For every 1 point increase in Bedrooms, we predict a {OLS.coef_[0]:.2f} point decrease in Final Grade')\n",
    "print(f'For every 1 point increase in Bathrooms, we predict a {OLS.coef_[1]:.2f} point increase in Final Grade')\n",
    "print(f'For every 1 point increase in Sqft, we predict a {OLS.coef_[2]:.2f} point increase in Final Grade')\n",
    "print(f'For every 1 point increase in Built, we predict a {OLS.coef_[0]:.2f} point decrease in Final Grade')"
   ]
  },
  {
   "cell_type": "markdown",
   "id": "2cd3f344",
   "metadata": {},
   "source": [
    "# Multiple Regression"
   ]
  },
  {
   "cell_type": "code",
   "execution_count": 180,
   "id": "34dc38c0",
   "metadata": {},
   "outputs": [],
   "source": [
    "#make it\n",
    "MR = LinearRegression()\n",
    "#fit it on our RFE features\n",
    "MR.fit(X_train_scaled, y_train)\n",
    "#use it (make predictions)\n",
    "pred_MR = MR.predict(X_train_scaled)\n",
    "#use it on validate\n",
    "pred_val_MR= MR.predict(X_validate_scaled)"
   ]
  },
  {
   "cell_type": "code",
   "execution_count": 181,
   "id": "929cc5d7",
   "metadata": {},
   "outputs": [
    {
     "data": {
      "text/plain": [
       "array([313058.0395992 , 190303.17697994, 546476.86274592, ...,\n",
       "       606471.35137785, 224702.67515524, 775302.44389158])"
      ]
     },
     "execution_count": 181,
     "metadata": {},
     "output_type": "execute_result"
    }
   ],
   "source": [
    "# look at predicted values\n",
    "pred_MR"
   ]
  },
  {
   "cell_type": "markdown",
   "id": "14c93c77",
   "metadata": {},
   "source": [
    "#### evaluate"
   ]
  },
  {
   "cell_type": "code",
   "execution_count": 182,
   "id": "36f1359c",
   "metadata": {},
   "outputs": [
    {
     "data": {
      "text/plain": [
       "(248530.54711653356, 0.3463671644891865)"
      ]
     },
     "execution_count": 182,
     "metadata": {},
     "output_type": "execute_result"
    }
   ],
   "source": [
    "#train \n",
    "eva.metrics_reg(y_train, pred_MR)"
   ]
  },
  {
   "cell_type": "code",
   "execution_count": 183,
   "id": "e4f861c7",
   "metadata": {},
   "outputs": [
    {
     "data": {
      "text/plain": [
       "(248945.0890125688, 0.34497739591566134)"
      ]
     },
     "execution_count": 183,
     "metadata": {},
     "output_type": "execute_result"
    }
   ],
   "source": [
    "#validate\n",
    "rmse, r2 = eva.metrics_reg(y_validate, pred_val_MR)\n",
    "rmse, r2"
   ]
  },
  {
   "cell_type": "code",
   "execution_count": 184,
   "id": "6e4fa502",
   "metadata": {},
   "outputs": [
    {
     "data": {
      "text/html": [
       "<div>\n",
       "<style scoped>\n",
       "    .dataframe tbody tr th:only-of-type {\n",
       "        vertical-align: middle;\n",
       "    }\n",
       "\n",
       "    .dataframe tbody tr th {\n",
       "        vertical-align: top;\n",
       "    }\n",
       "\n",
       "    .dataframe thead th {\n",
       "        text-align: right;\n",
       "    }\n",
       "</style>\n",
       "<table border=\"1\" class=\"dataframe\">\n",
       "  <thead>\n",
       "    <tr style=\"text-align: right;\">\n",
       "      <th></th>\n",
       "      <th>model</th>\n",
       "      <th>rmse</th>\n",
       "      <th>r2</th>\n",
       "    </tr>\n",
       "  </thead>\n",
       "  <tbody>\n",
       "    <tr>\n",
       "      <th>0</th>\n",
       "      <td>baseline</td>\n",
       "      <td>307406.357800</td>\n",
       "      <td>1.110223e-16</td>\n",
       "    </tr>\n",
       "    <tr>\n",
       "      <th>1</th>\n",
       "      <td>ols</td>\n",
       "      <td>248945.089013</td>\n",
       "      <td>3.449774e-01</td>\n",
       "    </tr>\n",
       "    <tr>\n",
       "      <th>2</th>\n",
       "      <td>MR</td>\n",
       "      <td>248945.089013</td>\n",
       "      <td>3.449774e-01</td>\n",
       "    </tr>\n",
       "    <tr>\n",
       "      <th>3</th>\n",
       "      <td>lars</td>\n",
       "      <td>248945.157726</td>\n",
       "      <td>3.449770e-01</td>\n",
       "    </tr>\n",
       "    <tr>\n",
       "      <th>4</th>\n",
       "      <td>pr</td>\n",
       "      <td>245012.630432</td>\n",
       "      <td>3.655081e-01</td>\n",
       "    </tr>\n",
       "    <tr>\n",
       "      <th>5</th>\n",
       "      <td>glm</td>\n",
       "      <td>249828.333694</td>\n",
       "      <td>3.403212e-01</td>\n",
       "    </tr>\n",
       "  </tbody>\n",
       "</table>\n",
       "</div>"
      ],
      "text/plain": [
       "      model           rmse            r2\n",
       "0  baseline  307406.357800  1.110223e-16\n",
       "1       ols  248945.089013  3.449774e-01\n",
       "2        MR  248945.089013  3.449774e-01\n",
       "3      lars  248945.157726  3.449770e-01\n",
       "4        pr  245012.630432  3.655081e-01\n",
       "5       glm  249828.333694  3.403212e-01"
      ]
     },
     "execution_count": 184,
     "metadata": {},
     "output_type": "execute_result"
    }
   ],
   "source": [
    "#add to my metrics df\n",
    "metrics_df.loc[2] = ['MR', rmse, r2]\n",
    "metrics_df"
   ]
  },
  {
   "cell_type": "markdown",
   "id": "6f9f271f",
   "metadata": {},
   "source": [
    "# LassoLars"
   ]
  },
  {
   "cell_type": "code",
   "execution_count": 185,
   "id": "55e45b98",
   "metadata": {},
   "outputs": [],
   "source": [
    "#make it\n",
    "lars = LassoLars(normalize=False, alpha=1)\n",
    "#fit it\n",
    "lars.fit(X_train_scaled, y_train)\n",
    "#use it\n",
    "pred_lars = lars.predict(X_train_scaled)\n",
    "pred_val_lars = lars.predict(X_validate_scaled)"
   ]
  },
  {
   "cell_type": "markdown",
   "id": "675ab355",
   "metadata": {},
   "source": [
    "#### evaluate"
   ]
  },
  {
   "cell_type": "code",
   "execution_count": 186,
   "id": "9c08ddf5",
   "metadata": {},
   "outputs": [
    {
     "data": {
      "text/plain": [
       "(248530.55325222036, 0.34636713221559723)"
      ]
     },
     "execution_count": 186,
     "metadata": {},
     "output_type": "execute_result"
    }
   ],
   "source": [
    "#train\n",
    "eva.metrics_reg(y_train, pred_lars)"
   ]
  },
  {
   "cell_type": "code",
   "execution_count": 187,
   "id": "263c2eff",
   "metadata": {},
   "outputs": [
    {
     "data": {
      "text/plain": [
       "(248945.15772644334, 0.34497703431666427)"
      ]
     },
     "execution_count": 187,
     "metadata": {},
     "output_type": "execute_result"
    }
   ],
   "source": [
    "#validate\n",
    "rmse, r2 = eva.metrics_reg(y_validate, pred_val_lars)\n",
    "rmse, r2"
   ]
  },
  {
   "cell_type": "code",
   "execution_count": 188,
   "id": "7e0e76e5",
   "metadata": {},
   "outputs": [
    {
     "data": {
      "text/html": [
       "<div>\n",
       "<style scoped>\n",
       "    .dataframe tbody tr th:only-of-type {\n",
       "        vertical-align: middle;\n",
       "    }\n",
       "\n",
       "    .dataframe tbody tr th {\n",
       "        vertical-align: top;\n",
       "    }\n",
       "\n",
       "    .dataframe thead th {\n",
       "        text-align: right;\n",
       "    }\n",
       "</style>\n",
       "<table border=\"1\" class=\"dataframe\">\n",
       "  <thead>\n",
       "    <tr style=\"text-align: right;\">\n",
       "      <th></th>\n",
       "      <th>model</th>\n",
       "      <th>rmse</th>\n",
       "      <th>r2</th>\n",
       "    </tr>\n",
       "  </thead>\n",
       "  <tbody>\n",
       "    <tr>\n",
       "      <th>0</th>\n",
       "      <td>baseline</td>\n",
       "      <td>307406.357800</td>\n",
       "      <td>1.110223e-16</td>\n",
       "    </tr>\n",
       "    <tr>\n",
       "      <th>1</th>\n",
       "      <td>ols</td>\n",
       "      <td>248945.089013</td>\n",
       "      <td>3.449774e-01</td>\n",
       "    </tr>\n",
       "    <tr>\n",
       "      <th>2</th>\n",
       "      <td>MR</td>\n",
       "      <td>248945.089013</td>\n",
       "      <td>3.449774e-01</td>\n",
       "    </tr>\n",
       "    <tr>\n",
       "      <th>3</th>\n",
       "      <td>lars</td>\n",
       "      <td>248945.157726</td>\n",
       "      <td>3.449770e-01</td>\n",
       "    </tr>\n",
       "    <tr>\n",
       "      <th>4</th>\n",
       "      <td>pr</td>\n",
       "      <td>245012.630432</td>\n",
       "      <td>3.655081e-01</td>\n",
       "    </tr>\n",
       "    <tr>\n",
       "      <th>5</th>\n",
       "      <td>glm</td>\n",
       "      <td>249828.333694</td>\n",
       "      <td>3.403212e-01</td>\n",
       "    </tr>\n",
       "  </tbody>\n",
       "</table>\n",
       "</div>"
      ],
      "text/plain": [
       "      model           rmse            r2\n",
       "0  baseline  307406.357800  1.110223e-16\n",
       "1       ols  248945.089013  3.449774e-01\n",
       "2        MR  248945.089013  3.449774e-01\n",
       "3      lars  248945.157726  3.449770e-01\n",
       "4        pr  245012.630432  3.655081e-01\n",
       "5       glm  249828.333694  3.403212e-01"
      ]
     },
     "execution_count": 188,
     "metadata": {},
     "output_type": "execute_result"
    }
   ],
   "source": [
    "#add to my metrics df\n",
    "metrics_df.loc[3] = ['lars', rmse, r2]\n",
    "metrics_df"
   ]
  },
  {
   "cell_type": "markdown",
   "id": "b67fccad",
   "metadata": {},
   "source": [
    "# Polynomial Regression"
   ]
  },
  {
   "cell_type": "code",
   "execution_count": 189,
   "id": "fbb53f9a",
   "metadata": {},
   "outputs": [],
   "source": [
    "# make the polynomial features to get a new set of features\n",
    "# degree of 1 will be the same as our original data\n",
    "pf = PolynomialFeatures(degree=2)\n",
    "\n",
    "# fit and transform X_train_scaled\n",
    "X_train_degree2 = pf.fit_transform(X_train_scaled)\n",
    "\n",
    "# transform X_validate_scaled & X_test_scaled\n",
    "X_val_degree2 = pf.transform(X_validate_scaled)\n",
    "\n",
    "X_test_degree2 = pf.transform(X_test_scaled)"
   ]
  },
  {
   "cell_type": "markdown",
   "id": "bb293ee6",
   "metadata": {},
   "source": [
    "#### fit on a linear regression model"
   ]
  },
  {
   "cell_type": "code",
   "execution_count": 190,
   "id": "90509c88",
   "metadata": {},
   "outputs": [],
   "source": [
    "#make it\n",
    "pr = LinearRegression()\n",
    "#fit it\n",
    "pr.fit(X_train_degree2, y_train)\n",
    "#use it\n",
    "pred_pr = pr.predict(X_train_degree2)\n",
    "pred_val_pr = pr.predict(X_val_degree2)"
   ]
  },
  {
   "cell_type": "markdown",
   "id": "14091f36",
   "metadata": {},
   "source": [
    "#### evaluate"
   ]
  },
  {
   "cell_type": "code",
   "execution_count": 191,
   "id": "88a40632",
   "metadata": {},
   "outputs": [
    {
     "data": {
      "text/plain": [
       "(244480.12589515425, 0.36749868853452805)"
      ]
     },
     "execution_count": 191,
     "metadata": {},
     "output_type": "execute_result"
    }
   ],
   "source": [
    "#train\n",
    "eva.metrics_reg(y_train, pred_pr)"
   ]
  },
  {
   "cell_type": "code",
   "execution_count": 192,
   "id": "415aa5a9",
   "metadata": {},
   "outputs": [
    {
     "data": {
      "text/plain": [
       "(245012.6304317708, 0.36550806460080854)"
      ]
     },
     "execution_count": 192,
     "metadata": {},
     "output_type": "execute_result"
    }
   ],
   "source": [
    "#validate\n",
    "rmse, r2 = eva.metrics_reg(y_validate, pred_val_pr)\n",
    "rmse, r2"
   ]
  },
  {
   "cell_type": "code",
   "execution_count": 193,
   "id": "7c698731",
   "metadata": {},
   "outputs": [
    {
     "data": {
      "text/html": [
       "<div>\n",
       "<style scoped>\n",
       "    .dataframe tbody tr th:only-of-type {\n",
       "        vertical-align: middle;\n",
       "    }\n",
       "\n",
       "    .dataframe tbody tr th {\n",
       "        vertical-align: top;\n",
       "    }\n",
       "\n",
       "    .dataframe thead th {\n",
       "        text-align: right;\n",
       "    }\n",
       "</style>\n",
       "<table border=\"1\" class=\"dataframe\">\n",
       "  <thead>\n",
       "    <tr style=\"text-align: right;\">\n",
       "      <th></th>\n",
       "      <th>model</th>\n",
       "      <th>rmse</th>\n",
       "      <th>r2</th>\n",
       "    </tr>\n",
       "  </thead>\n",
       "  <tbody>\n",
       "    <tr>\n",
       "      <th>0</th>\n",
       "      <td>baseline</td>\n",
       "      <td>307406.357800</td>\n",
       "      <td>1.110223e-16</td>\n",
       "    </tr>\n",
       "    <tr>\n",
       "      <th>1</th>\n",
       "      <td>ols</td>\n",
       "      <td>248945.089013</td>\n",
       "      <td>3.449774e-01</td>\n",
       "    </tr>\n",
       "    <tr>\n",
       "      <th>2</th>\n",
       "      <td>MR</td>\n",
       "      <td>248945.089013</td>\n",
       "      <td>3.449774e-01</td>\n",
       "    </tr>\n",
       "    <tr>\n",
       "      <th>3</th>\n",
       "      <td>lars</td>\n",
       "      <td>248945.157726</td>\n",
       "      <td>3.449770e-01</td>\n",
       "    </tr>\n",
       "    <tr>\n",
       "      <th>4</th>\n",
       "      <td>pr</td>\n",
       "      <td>245012.630432</td>\n",
       "      <td>3.655081e-01</td>\n",
       "    </tr>\n",
       "    <tr>\n",
       "      <th>5</th>\n",
       "      <td>glm</td>\n",
       "      <td>249828.333694</td>\n",
       "      <td>3.403212e-01</td>\n",
       "    </tr>\n",
       "  </tbody>\n",
       "</table>\n",
       "</div>"
      ],
      "text/plain": [
       "      model           rmse            r2\n",
       "0  baseline  307406.357800  1.110223e-16\n",
       "1       ols  248945.089013  3.449774e-01\n",
       "2        MR  248945.089013  3.449774e-01\n",
       "3      lars  248945.157726  3.449770e-01\n",
       "4        pr  245012.630432  3.655081e-01\n",
       "5       glm  249828.333694  3.403212e-01"
      ]
     },
     "execution_count": 193,
     "metadata": {},
     "output_type": "execute_result"
    }
   ],
   "source": [
    "#add to my metrics df\n",
    "metrics_df.loc[4] = ['pr', rmse, r2]\n",
    "metrics_df"
   ]
  },
  {
   "cell_type": "markdown",
   "id": "1e2161fd",
   "metadata": {},
   "source": [
    "# Generalized Linear Model (GLM)"
   ]
  },
  {
   "cell_type": "code",
   "execution_count": 194,
   "id": "9ed3a608",
   "metadata": {},
   "outputs": [],
   "source": [
    "#make it\n",
    "glm = TweedieRegressor(power=1, alpha=0)\n",
    "#fit it\n",
    "glm.fit(X_train_scaled, y_train)\n",
    "#use it\n",
    "pred_glm = glm.predict(X_train_scaled)\n",
    "pred_val_glm = glm.predict(X_validate_scaled)"
   ]
  },
  {
   "cell_type": "markdown",
   "id": "c23ae0c4",
   "metadata": {},
   "source": [
    "#### evaluate"
   ]
  },
  {
   "cell_type": "code",
   "execution_count": 195,
   "id": "d90e5146",
   "metadata": {},
   "outputs": [
    {
     "data": {
      "text/plain": [
       "(249279.08741406875, 0.34242392828684454)"
      ]
     },
     "execution_count": 195,
     "metadata": {},
     "output_type": "execute_result"
    }
   ],
   "source": [
    "#train\n",
    "eva.metrics_reg(y_train, pred_glm)"
   ]
  },
  {
   "cell_type": "code",
   "execution_count": 196,
   "id": "39aba7c2",
   "metadata": {},
   "outputs": [
    {
     "data": {
      "text/plain": [
       "(249828.33369390428, 0.34032117587747923)"
      ]
     },
     "execution_count": 196,
     "metadata": {},
     "output_type": "execute_result"
    }
   ],
   "source": [
    "rmse, r2 = eva.metrics_reg(y_validate, pred_val_glm)\n",
    "rmse, r2"
   ]
  },
  {
   "cell_type": "code",
   "execution_count": 197,
   "id": "93ea94d7",
   "metadata": {},
   "outputs": [
    {
     "data": {
      "text/html": [
       "<div>\n",
       "<style scoped>\n",
       "    .dataframe tbody tr th:only-of-type {\n",
       "        vertical-align: middle;\n",
       "    }\n",
       "\n",
       "    .dataframe tbody tr th {\n",
       "        vertical-align: top;\n",
       "    }\n",
       "\n",
       "    .dataframe thead th {\n",
       "        text-align: right;\n",
       "    }\n",
       "</style>\n",
       "<table border=\"1\" class=\"dataframe\">\n",
       "  <thead>\n",
       "    <tr style=\"text-align: right;\">\n",
       "      <th></th>\n",
       "      <th>model</th>\n",
       "      <th>rmse</th>\n",
       "      <th>r2</th>\n",
       "    </tr>\n",
       "  </thead>\n",
       "  <tbody>\n",
       "    <tr>\n",
       "      <th>0</th>\n",
       "      <td>baseline</td>\n",
       "      <td>307406.357800</td>\n",
       "      <td>1.110223e-16</td>\n",
       "    </tr>\n",
       "    <tr>\n",
       "      <th>1</th>\n",
       "      <td>ols</td>\n",
       "      <td>248945.089013</td>\n",
       "      <td>3.449774e-01</td>\n",
       "    </tr>\n",
       "    <tr>\n",
       "      <th>2</th>\n",
       "      <td>MR</td>\n",
       "      <td>248945.089013</td>\n",
       "      <td>3.449774e-01</td>\n",
       "    </tr>\n",
       "    <tr>\n",
       "      <th>3</th>\n",
       "      <td>lars</td>\n",
       "      <td>248945.157726</td>\n",
       "      <td>3.449770e-01</td>\n",
       "    </tr>\n",
       "    <tr>\n",
       "      <th>4</th>\n",
       "      <td>pr</td>\n",
       "      <td>245012.630432</td>\n",
       "      <td>3.655081e-01</td>\n",
       "    </tr>\n",
       "    <tr>\n",
       "      <th>5</th>\n",
       "      <td>glm</td>\n",
       "      <td>249828.333694</td>\n",
       "      <td>3.403212e-01</td>\n",
       "    </tr>\n",
       "  </tbody>\n",
       "</table>\n",
       "</div>"
      ],
      "text/plain": [
       "      model           rmse            r2\n",
       "0  baseline  307406.357800  1.110223e-16\n",
       "1       ols  248945.089013  3.449774e-01\n",
       "2        MR  248945.089013  3.449774e-01\n",
       "3      lars  248945.157726  3.449770e-01\n",
       "4        pr  245012.630432  3.655081e-01\n",
       "5       glm  249828.333694  3.403212e-01"
      ]
     },
     "execution_count": 197,
     "metadata": {},
     "output_type": "execute_result"
    }
   ],
   "source": [
    "#add to my metrics df\n",
    "metrics_df.loc[5] = ['glm', rmse, r2]\n",
    "metrics_df"
   ]
  },
  {
   "cell_type": "code",
   "execution_count": 198,
   "id": "08c9bda7",
   "metadata": {},
   "outputs": [],
   "source": [
    "### Evaluate on Best Model\n",
    "#use it\n",
    "pred_test = pr.predict(X_test_degree2)"
   ]
  },
  {
   "cell_type": "code",
   "execution_count": 199,
   "id": "01518911",
   "metadata": {},
   "outputs": [
    {
     "data": {
      "text/plain": [
       "(244111.65296626114, 0.3684949978197506)"
      ]
     },
     "execution_count": 199,
     "metadata": {},
     "output_type": "execute_result"
    }
   ],
   "source": [
    "eva.metrics_reg(y_test, pred_test)"
   ]
  },
  {
   "cell_type": "markdown",
   "id": "914efc0e",
   "metadata": {},
   "source": [
    "# Prepare for visualization"
   ]
  },
  {
   "cell_type": "code",
   "execution_count": 200,
   "id": "63078d16",
   "metadata": {
    "scrolled": true
   },
   "outputs": [
    {
     "data": {
      "text/html": [
       "<div>\n",
       "<style scoped>\n",
       "    .dataframe tbody tr th:only-of-type {\n",
       "        vertical-align: middle;\n",
       "    }\n",
       "\n",
       "    .dataframe tbody tr th {\n",
       "        vertical-align: top;\n",
       "    }\n",
       "\n",
       "    .dataframe thead th {\n",
       "        text-align: right;\n",
       "    }\n",
       "</style>\n",
       "<table border=\"1\" class=\"dataframe\">\n",
       "  <thead>\n",
       "    <tr style=\"text-align: right;\">\n",
       "      <th></th>\n",
       "      <th>pred_OLS</th>\n",
       "      <th>pred_MR</th>\n",
       "      <th>pred_lars</th>\n",
       "      <th>pred_pr</th>\n",
       "      <th>pred_glm</th>\n",
       "      <th>index</th>\n",
       "    </tr>\n",
       "  </thead>\n",
       "  <tbody>\n",
       "    <tr>\n",
       "      <th>0</th>\n",
       "      <td>313058.039599</td>\n",
       "      <td>313058.039599</td>\n",
       "      <td>313091.620972</td>\n",
       "      <td>271726.281999</td>\n",
       "      <td>311535.495369</td>\n",
       "      <td>731916</td>\n",
       "    </tr>\n",
       "    <tr>\n",
       "      <th>1</th>\n",
       "      <td>190303.176980</td>\n",
       "      <td>190303.176980</td>\n",
       "      <td>190314.713437</td>\n",
       "      <td>213994.914191</td>\n",
       "      <td>237495.948703</td>\n",
       "      <td>1286889</td>\n",
       "    </tr>\n",
       "    <tr>\n",
       "      <th>2</th>\n",
       "      <td>546476.862746</td>\n",
       "      <td>546476.862746</td>\n",
       "      <td>546503.637927</td>\n",
       "      <td>508777.885040</td>\n",
       "      <td>496370.557192</td>\n",
       "      <td>1105466</td>\n",
       "    </tr>\n",
       "    <tr>\n",
       "      <th>3</th>\n",
       "      <td>252960.347523</td>\n",
       "      <td>252960.347523</td>\n",
       "      <td>252983.981331</td>\n",
       "      <td>252022.900762</td>\n",
       "      <td>267066.715556</td>\n",
       "      <td>1535462</td>\n",
       "    </tr>\n",
       "    <tr>\n",
       "      <th>4</th>\n",
       "      <td>736543.329666</td>\n",
       "      <td>736543.329666</td>\n",
       "      <td>736476.424153</td>\n",
       "      <td>851753.372048</td>\n",
       "      <td>740579.413905</td>\n",
       "      <td>1948233</td>\n",
       "    </tr>\n",
       "    <tr>\n",
       "      <th>...</th>\n",
       "      <td>...</td>\n",
       "      <td>...</td>\n",
       "      <td>...</td>\n",
       "      <td>...</td>\n",
       "      <td>...</td>\n",
       "      <td>...</td>\n",
       "    </tr>\n",
       "    <tr>\n",
       "      <th>1254870</th>\n",
       "      <td>241349.386734</td>\n",
       "      <td>241349.386734</td>\n",
       "      <td>241297.686398</td>\n",
       "      <td>235946.366914</td>\n",
       "      <td>258848.954537</td>\n",
       "      <td>1650719</td>\n",
       "    </tr>\n",
       "    <tr>\n",
       "      <th>1254871</th>\n",
       "      <td>566238.716711</td>\n",
       "      <td>566238.716711</td>\n",
       "      <td>566162.887436</td>\n",
       "      <td>535309.553370</td>\n",
       "      <td>527360.405511</td>\n",
       "      <td>592897</td>\n",
       "    </tr>\n",
       "    <tr>\n",
       "      <th>1254872</th>\n",
       "      <td>606471.351378</td>\n",
       "      <td>606471.351378</td>\n",
       "      <td>606467.772908</td>\n",
       "      <td>610964.911998</td>\n",
       "      <td>573489.418478</td>\n",
       "      <td>1483205</td>\n",
       "    </tr>\n",
       "    <tr>\n",
       "      <th>1254873</th>\n",
       "      <td>224702.675155</td>\n",
       "      <td>224702.675155</td>\n",
       "      <td>224770.473514</td>\n",
       "      <td>260785.780485</td>\n",
       "      <td>254193.556754</td>\n",
       "      <td>1478881</td>\n",
       "    </tr>\n",
       "    <tr>\n",
       "      <th>1254874</th>\n",
       "      <td>775302.443892</td>\n",
       "      <td>775302.443892</td>\n",
       "      <td>775299.575094</td>\n",
       "      <td>744160.461840</td>\n",
       "      <td>747733.762775</td>\n",
       "      <td>1858243</td>\n",
       "    </tr>\n",
       "  </tbody>\n",
       "</table>\n",
       "<p>1254875 rows × 6 columns</p>\n",
       "</div>"
      ],
      "text/plain": [
       "              pred_OLS        pred_MR      pred_lars        pred_pr  \\\n",
       "0        313058.039599  313058.039599  313091.620972  271726.281999   \n",
       "1        190303.176980  190303.176980  190314.713437  213994.914191   \n",
       "2        546476.862746  546476.862746  546503.637927  508777.885040   \n",
       "3        252960.347523  252960.347523  252983.981331  252022.900762   \n",
       "4        736543.329666  736543.329666  736476.424153  851753.372048   \n",
       "...                ...            ...            ...            ...   \n",
       "1254870  241349.386734  241349.386734  241297.686398  235946.366914   \n",
       "1254871  566238.716711  566238.716711  566162.887436  535309.553370   \n",
       "1254872  606471.351378  606471.351378  606467.772908  610964.911998   \n",
       "1254873  224702.675155  224702.675155  224770.473514  260785.780485   \n",
       "1254874  775302.443892  775302.443892  775299.575094  744160.461840   \n",
       "\n",
       "              pred_glm    index  \n",
       "0        311535.495369   731916  \n",
       "1        237495.948703  1286889  \n",
       "2        496370.557192  1105466  \n",
       "3        267066.715556  1535462  \n",
       "4        740579.413905  1948233  \n",
       "...                ...      ...  \n",
       "1254870  258848.954537  1650719  \n",
       "1254871  527360.405511   592897  \n",
       "1254872  573489.418478  1483205  \n",
       "1254873  254193.556754  1478881  \n",
       "1254874  747733.762775  1858243  \n",
       "\n",
       "[1254875 rows x 6 columns]"
      ]
     },
     "execution_count": 200,
     "metadata": {},
     "output_type": "execute_result"
    }
   ],
   "source": [
    "plot_df = pd.DataFrame({'pred_OLS': pred_OLS,\n",
    "                        'pred_MR': pred_MR,\n",
    "                        'pred_lars': pred_lars,\n",
    "                        'pred_pr': pred_pr,\n",
    "                        'pred_glm': pred_glm,\n",
    "                        'index': X_train_scaled.index})\n",
    "plot_df"
   ]
  },
  {
   "cell_type": "code",
   "execution_count": 201,
   "id": "f61f2d72",
   "metadata": {},
   "outputs": [
    {
     "data": {
      "text/html": [
       "<div>\n",
       "<style scoped>\n",
       "    .dataframe tbody tr th:only-of-type {\n",
       "        vertical-align: middle;\n",
       "    }\n",
       "\n",
       "    .dataframe tbody tr th {\n",
       "        vertical-align: top;\n",
       "    }\n",
       "\n",
       "    .dataframe thead th {\n",
       "        text-align: right;\n",
       "    }\n",
       "</style>\n",
       "<table border=\"1\" class=\"dataframe\">\n",
       "  <thead>\n",
       "    <tr style=\"text-align: right;\">\n",
       "      <th></th>\n",
       "      <th>actual</th>\n",
       "      <th>index</th>\n",
       "    </tr>\n",
       "  </thead>\n",
       "  <tbody>\n",
       "    <tr>\n",
       "      <th>731916</th>\n",
       "      <td>148309.0</td>\n",
       "      <td>731916</td>\n",
       "    </tr>\n",
       "    <tr>\n",
       "      <th>1286889</th>\n",
       "      <td>199476.0</td>\n",
       "      <td>1286889</td>\n",
       "    </tr>\n",
       "    <tr>\n",
       "      <th>1105466</th>\n",
       "      <td>921624.0</td>\n",
       "      <td>1105466</td>\n",
       "    </tr>\n",
       "    <tr>\n",
       "      <th>1535462</th>\n",
       "      <td>311969.0</td>\n",
       "      <td>1535462</td>\n",
       "    </tr>\n",
       "    <tr>\n",
       "      <th>1948233</th>\n",
       "      <td>1155354.0</td>\n",
       "      <td>1948233</td>\n",
       "    </tr>\n",
       "    <tr>\n",
       "      <th>...</th>\n",
       "      <td>...</td>\n",
       "      <td>...</td>\n",
       "    </tr>\n",
       "    <tr>\n",
       "      <th>1650719</th>\n",
       "      <td>96289.0</td>\n",
       "      <td>1650719</td>\n",
       "    </tr>\n",
       "    <tr>\n",
       "      <th>592897</th>\n",
       "      <td>870000.0</td>\n",
       "      <td>592897</td>\n",
       "    </tr>\n",
       "    <tr>\n",
       "      <th>1483205</th>\n",
       "      <td>649000.0</td>\n",
       "      <td>1483205</td>\n",
       "    </tr>\n",
       "    <tr>\n",
       "      <th>1478881</th>\n",
       "      <td>44892.0</td>\n",
       "      <td>1478881</td>\n",
       "    </tr>\n",
       "    <tr>\n",
       "      <th>1858243</th>\n",
       "      <td>817801.0</td>\n",
       "      <td>1858243</td>\n",
       "    </tr>\n",
       "  </tbody>\n",
       "</table>\n",
       "<p>1254875 rows × 2 columns</p>\n",
       "</div>"
      ],
      "text/plain": [
       "            actual    index\n",
       "731916    148309.0   731916\n",
       "1286889   199476.0  1286889\n",
       "1105466   921624.0  1105466\n",
       "1535462   311969.0  1535462\n",
       "1948233  1155354.0  1948233\n",
       "...            ...      ...\n",
       "1650719    96289.0  1650719\n",
       "592897    870000.0   592897\n",
       "1483205   649000.0  1483205\n",
       "1478881    44892.0  1478881\n",
       "1858243   817801.0  1858243\n",
       "\n",
       "[1254875 rows x 2 columns]"
      ]
     },
     "execution_count": 201,
     "metadata": {},
     "output_type": "execute_result"
    }
   ],
   "source": [
    "ploty_df = pd.DataFrame({'actual': y_train,\n",
    "                        'index': y_train.index})\n",
    "ploty_df"
   ]
  },
  {
   "cell_type": "code",
   "execution_count": 202,
   "id": "74c2033d",
   "metadata": {
    "scrolled": true
   },
   "outputs": [
    {
     "data": {
      "text/html": [
       "<div>\n",
       "<style scoped>\n",
       "    .dataframe tbody tr th:only-of-type {\n",
       "        vertical-align: middle;\n",
       "    }\n",
       "\n",
       "    .dataframe tbody tr th {\n",
       "        vertical-align: top;\n",
       "    }\n",
       "\n",
       "    .dataframe thead th {\n",
       "        text-align: right;\n",
       "    }\n",
       "</style>\n",
       "<table border=\"1\" class=\"dataframe\">\n",
       "  <thead>\n",
       "    <tr style=\"text-align: right;\">\n",
       "      <th></th>\n",
       "      <th>pred_OLS</th>\n",
       "      <th>pred_MR</th>\n",
       "      <th>pred_lars</th>\n",
       "      <th>pred_pr</th>\n",
       "      <th>pred_glm</th>\n",
       "      <th>actual</th>\n",
       "    </tr>\n",
       "    <tr>\n",
       "      <th>index</th>\n",
       "      <th></th>\n",
       "      <th></th>\n",
       "      <th></th>\n",
       "      <th></th>\n",
       "      <th></th>\n",
       "      <th></th>\n",
       "    </tr>\n",
       "  </thead>\n",
       "  <tbody>\n",
       "    <tr>\n",
       "      <th>731916</th>\n",
       "      <td>313058.039599</td>\n",
       "      <td>313058.039599</td>\n",
       "      <td>313091.620972</td>\n",
       "      <td>271726.281999</td>\n",
       "      <td>311535.495369</td>\n",
       "      <td>148309.0</td>\n",
       "    </tr>\n",
       "    <tr>\n",
       "      <th>1286889</th>\n",
       "      <td>190303.176980</td>\n",
       "      <td>190303.176980</td>\n",
       "      <td>190314.713437</td>\n",
       "      <td>213994.914191</td>\n",
       "      <td>237495.948703</td>\n",
       "      <td>199476.0</td>\n",
       "    </tr>\n",
       "    <tr>\n",
       "      <th>1105466</th>\n",
       "      <td>546476.862746</td>\n",
       "      <td>546476.862746</td>\n",
       "      <td>546503.637927</td>\n",
       "      <td>508777.885040</td>\n",
       "      <td>496370.557192</td>\n",
       "      <td>921624.0</td>\n",
       "    </tr>\n",
       "    <tr>\n",
       "      <th>1535462</th>\n",
       "      <td>252960.347523</td>\n",
       "      <td>252960.347523</td>\n",
       "      <td>252983.981331</td>\n",
       "      <td>252022.900762</td>\n",
       "      <td>267066.715556</td>\n",
       "      <td>311969.0</td>\n",
       "    </tr>\n",
       "    <tr>\n",
       "      <th>1948233</th>\n",
       "      <td>736543.329666</td>\n",
       "      <td>736543.329666</td>\n",
       "      <td>736476.424153</td>\n",
       "      <td>851753.372048</td>\n",
       "      <td>740579.413905</td>\n",
       "      <td>1155354.0</td>\n",
       "    </tr>\n",
       "    <tr>\n",
       "      <th>...</th>\n",
       "      <td>...</td>\n",
       "      <td>...</td>\n",
       "      <td>...</td>\n",
       "      <td>...</td>\n",
       "      <td>...</td>\n",
       "      <td>...</td>\n",
       "    </tr>\n",
       "    <tr>\n",
       "      <th>1650719</th>\n",
       "      <td>241349.386734</td>\n",
       "      <td>241349.386734</td>\n",
       "      <td>241297.686398</td>\n",
       "      <td>235946.366914</td>\n",
       "      <td>258848.954537</td>\n",
       "      <td>96289.0</td>\n",
       "    </tr>\n",
       "    <tr>\n",
       "      <th>592897</th>\n",
       "      <td>566238.716711</td>\n",
       "      <td>566238.716711</td>\n",
       "      <td>566162.887436</td>\n",
       "      <td>535309.553370</td>\n",
       "      <td>527360.405511</td>\n",
       "      <td>870000.0</td>\n",
       "    </tr>\n",
       "    <tr>\n",
       "      <th>1483205</th>\n",
       "      <td>606471.351378</td>\n",
       "      <td>606471.351378</td>\n",
       "      <td>606467.772908</td>\n",
       "      <td>610964.911998</td>\n",
       "      <td>573489.418478</td>\n",
       "      <td>649000.0</td>\n",
       "    </tr>\n",
       "    <tr>\n",
       "      <th>1478881</th>\n",
       "      <td>224702.675155</td>\n",
       "      <td>224702.675155</td>\n",
       "      <td>224770.473514</td>\n",
       "      <td>260785.780485</td>\n",
       "      <td>254193.556754</td>\n",
       "      <td>44892.0</td>\n",
       "    </tr>\n",
       "    <tr>\n",
       "      <th>1858243</th>\n",
       "      <td>775302.443892</td>\n",
       "      <td>775302.443892</td>\n",
       "      <td>775299.575094</td>\n",
       "      <td>744160.461840</td>\n",
       "      <td>747733.762775</td>\n",
       "      <td>817801.0</td>\n",
       "    </tr>\n",
       "  </tbody>\n",
       "</table>\n",
       "<p>1254875 rows × 6 columns</p>\n",
       "</div>"
      ],
      "text/plain": [
       "              pred_OLS        pred_MR      pred_lars        pred_pr  \\\n",
       "index                                                                 \n",
       "731916   313058.039599  313058.039599  313091.620972  271726.281999   \n",
       "1286889  190303.176980  190303.176980  190314.713437  213994.914191   \n",
       "1105466  546476.862746  546476.862746  546503.637927  508777.885040   \n",
       "1535462  252960.347523  252960.347523  252983.981331  252022.900762   \n",
       "1948233  736543.329666  736543.329666  736476.424153  851753.372048   \n",
       "...                ...            ...            ...            ...   \n",
       "1650719  241349.386734  241349.386734  241297.686398  235946.366914   \n",
       "592897   566238.716711  566238.716711  566162.887436  535309.553370   \n",
       "1483205  606471.351378  606471.351378  606467.772908  610964.911998   \n",
       "1478881  224702.675155  224702.675155  224770.473514  260785.780485   \n",
       "1858243  775302.443892  775302.443892  775299.575094  744160.461840   \n",
       "\n",
       "              pred_glm     actual  \n",
       "index                              \n",
       "731916   311535.495369   148309.0  \n",
       "1286889  237495.948703   199476.0  \n",
       "1105466  496370.557192   921624.0  \n",
       "1535462  267066.715556   311969.0  \n",
       "1948233  740579.413905  1155354.0  \n",
       "...                ...        ...  \n",
       "1650719  258848.954537    96289.0  \n",
       "592897   527360.405511   870000.0  \n",
       "1483205  573489.418478   649000.0  \n",
       "1478881  254193.556754    44892.0  \n",
       "1858243  747733.762775   817801.0  \n",
       "\n",
       "[1254875 rows x 6 columns]"
      ]
     },
     "execution_count": 202,
     "metadata": {},
     "output_type": "execute_result"
    }
   ],
   "source": [
    "merged_df = pd.merge(plot_df, ploty_df, on='index')\n",
    "merged_df.set_index('index', inplace=True)\n",
    "merged_df"
   ]
  },
  {
   "cell_type": "code",
   "execution_count": 203,
   "id": "4922e0bd",
   "metadata": {},
   "outputs": [
    {
     "data": {
      "text/html": [
       "<div>\n",
       "<style scoped>\n",
       "    .dataframe tbody tr th:only-of-type {\n",
       "        vertical-align: middle;\n",
       "    }\n",
       "\n",
       "    .dataframe tbody tr th {\n",
       "        vertical-align: top;\n",
       "    }\n",
       "\n",
       "    .dataframe thead th {\n",
       "        text-align: right;\n",
       "    }\n",
       "</style>\n",
       "<table border=\"1\" class=\"dataframe\">\n",
       "  <thead>\n",
       "    <tr style=\"text-align: right;\">\n",
       "      <th></th>\n",
       "      <th>pred_OLS</th>\n",
       "      <th>pred_MR</th>\n",
       "      <th>pred_lars</th>\n",
       "      <th>pred_pr</th>\n",
       "      <th>pred_glm</th>\n",
       "      <th>actual</th>\n",
       "    </tr>\n",
       "    <tr>\n",
       "      <th>index</th>\n",
       "      <th></th>\n",
       "      <th></th>\n",
       "      <th></th>\n",
       "      <th></th>\n",
       "      <th></th>\n",
       "      <th></th>\n",
       "    </tr>\n",
       "  </thead>\n",
       "  <tbody>\n",
       "    <tr>\n",
       "      <th>560231</th>\n",
       "      <td>229963.199849</td>\n",
       "      <td>229963.199849</td>\n",
       "      <td>229916.276579</td>\n",
       "      <td>226823.484791</td>\n",
       "      <td>268978.724990</td>\n",
       "      <td>396000.0</td>\n",
       "    </tr>\n",
       "    <tr>\n",
       "      <th>1214405</th>\n",
       "      <td>240690.332618</td>\n",
       "      <td>240690.332618</td>\n",
       "      <td>240723.162559</td>\n",
       "      <td>261213.979981</td>\n",
       "      <td>282299.138350</td>\n",
       "      <td>207716.0</td>\n",
       "    </tr>\n",
       "    <tr>\n",
       "      <th>1471301</th>\n",
       "      <td>364296.858908</td>\n",
       "      <td>364296.858908</td>\n",
       "      <td>364359.464354</td>\n",
       "      <td>355212.658468</td>\n",
       "      <td>341455.796499</td>\n",
       "      <td>297207.0</td>\n",
       "    </tr>\n",
       "    <tr>\n",
       "      <th>499394</th>\n",
       "      <td>238651.122123</td>\n",
       "      <td>238651.122123</td>\n",
       "      <td>238630.855443</td>\n",
       "      <td>279200.668892</td>\n",
       "      <td>257290.190178</td>\n",
       "      <td>549877.0</td>\n",
       "    </tr>\n",
       "    <tr>\n",
       "      <th>1540858</th>\n",
       "      <td>310778.980393</td>\n",
       "      <td>310778.980393</td>\n",
       "      <td>310731.463655</td>\n",
       "      <td>311893.778195</td>\n",
       "      <td>316888.755660</td>\n",
       "      <td>350276.0</td>\n",
       "    </tr>\n",
       "    <tr>\n",
       "      <th>...</th>\n",
       "      <td>...</td>\n",
       "      <td>...</td>\n",
       "      <td>...</td>\n",
       "      <td>...</td>\n",
       "      <td>...</td>\n",
       "      <td>...</td>\n",
       "    </tr>\n",
       "    <tr>\n",
       "      <th>1251654</th>\n",
       "      <td>344413.116115</td>\n",
       "      <td>344413.116115</td>\n",
       "      <td>344410.223560</td>\n",
       "      <td>334065.376070</td>\n",
       "      <td>326812.790503</td>\n",
       "      <td>572000.0</td>\n",
       "    </tr>\n",
       "    <tr>\n",
       "      <th>751280</th>\n",
       "      <td>526891.417022</td>\n",
       "      <td>526891.417022</td>\n",
       "      <td>526851.333329</td>\n",
       "      <td>462223.039198</td>\n",
       "      <td>491422.579121</td>\n",
       "      <td>678587.0</td>\n",
       "    </tr>\n",
       "    <tr>\n",
       "      <th>395506</th>\n",
       "      <td>564120.536993</td>\n",
       "      <td>564120.536993</td>\n",
       "      <td>564141.543439</td>\n",
       "      <td>482408.028069</td>\n",
       "      <td>529345.692981</td>\n",
       "      <td>337527.0</td>\n",
       "    </tr>\n",
       "    <tr>\n",
       "      <th>147386</th>\n",
       "      <td>226894.883722</td>\n",
       "      <td>226894.883722</td>\n",
       "      <td>226908.418457</td>\n",
       "      <td>240773.810252</td>\n",
       "      <td>254013.918507</td>\n",
       "      <td>70621.0</td>\n",
       "    </tr>\n",
       "    <tr>\n",
       "      <th>616207</th>\n",
       "      <td>224444.962675</td>\n",
       "      <td>224444.962675</td>\n",
       "      <td>224555.261414</td>\n",
       "      <td>217910.978783</td>\n",
       "      <td>256843.880986</td>\n",
       "      <td>79404.0</td>\n",
       "    </tr>\n",
       "  </tbody>\n",
       "</table>\n",
       "<p>5000 rows × 6 columns</p>\n",
       "</div>"
      ],
      "text/plain": [
       "              pred_OLS        pred_MR      pred_lars        pred_pr  \\\n",
       "index                                                                 \n",
       "560231   229963.199849  229963.199849  229916.276579  226823.484791   \n",
       "1214405  240690.332618  240690.332618  240723.162559  261213.979981   \n",
       "1471301  364296.858908  364296.858908  364359.464354  355212.658468   \n",
       "499394   238651.122123  238651.122123  238630.855443  279200.668892   \n",
       "1540858  310778.980393  310778.980393  310731.463655  311893.778195   \n",
       "...                ...            ...            ...            ...   \n",
       "1251654  344413.116115  344413.116115  344410.223560  334065.376070   \n",
       "751280   526891.417022  526891.417022  526851.333329  462223.039198   \n",
       "395506   564120.536993  564120.536993  564141.543439  482408.028069   \n",
       "147386   226894.883722  226894.883722  226908.418457  240773.810252   \n",
       "616207   224444.962675  224444.962675  224555.261414  217910.978783   \n",
       "\n",
       "              pred_glm    actual  \n",
       "index                             \n",
       "560231   268978.724990  396000.0  \n",
       "1214405  282299.138350  207716.0  \n",
       "1471301  341455.796499  297207.0  \n",
       "499394   257290.190178  549877.0  \n",
       "1540858  316888.755660  350276.0  \n",
       "...                ...       ...  \n",
       "1251654  326812.790503  572000.0  \n",
       "751280   491422.579121  678587.0  \n",
       "395506   529345.692981  337527.0  \n",
       "147386   254013.918507   70621.0  \n",
       "616207   256843.880986   79404.0  \n",
       "\n",
       "[5000 rows x 6 columns]"
      ]
     },
     "execution_count": 203,
     "metadata": {},
     "output_type": "execute_result"
    }
   ],
   "source": [
    "plot_this = merged_df.sample(5000, random_state=123)\n",
    "plot_this"
   ]
  },
  {
   "cell_type": "markdown",
   "id": "8bbdef78",
   "metadata": {},
   "source": [
    "# plot actuals vs predicted"
   ]
  },
  {
   "cell_type": "code",
   "execution_count": 204,
   "id": "5d4649f2",
   "metadata": {},
   "outputs": [
    {
     "data": {
      "image/png": "[encoded data removed]",
      "text/plain": [
       "<Figure size 640x480 with 1 Axes>"
      ]
     },
     "metadata": {},
     "output_type": "display_data"
    }
   ],
   "source": [
    "\n",
    "plt.scatter(plot_this.pred_OLS, plot_this.actual, label='Linear Regression', alpha=0.5, color='blue', s=10)\n",
    "plt.scatter(plot_this.pred_MR, plot_this.actual, label='Multiple Regression', alpha=0.5, color='red', s=10)\n",
    "plt.scatter(plot_this.pred_lars, plot_this.actual, label='LASSO', alpha=0.5, color='green', s=10)\n",
    "plt.scatter(plot_this.pred_pr, plot_this.actual, label='Polynomial 2nd degree', alpha=0.5, color='orange', s=10)\n",
    "plt.scatter(plot_this.pred_glm, plot_this.actual, label='Generalized Linear Model', alpha=0.5, color='purple', s=10)\n",
    "\n",
    "plt.plot(plot_this.actual, plot_this.actual, label='_nolegend_', color='grey', linestyle='--')\n",
    "\n",
    "plt.axhline(baseline, ls=':', color='grey')\n",
    "plt.annotate(\"Baseline\", (65, 81), color='grey')\n",
    "\n",
    "plt.title(\"Comparison of Predicted and Actual Values\")\n",
    "plt.ylabel(\"Actual Value\")\n",
    "plt.xlabel(\"Predicted Final Value\")\n",
    "plt.legend()\n",
    "\n",
    "plt.grid(True, linestyle='--', alpha=0.5) \n",
    "\n",
    "plt.show()\n"
   ]
  },
  {
   "cell_type": "markdown",
   "id": "5129b6aa",
   "metadata": {},
   "source": [
    "#### plotting the residuals"
   ]
  },
  {
   "cell_type": "code",
   "execution_count": 205,
   "id": "cf76a43d",
   "metadata": {},
   "outputs": [
    {
     "data": {
      "image/png": "[encoded data removed]",
      "text/plain": [
       "<Figure size 640x480 with 1 Axes>"
      ]
     },
     "metadata": {},
     "output_type": "display_data"
    }
   ],
   "source": [
    "plt.axhline(0, ls=':', color='grey', label=\"No Error\")\n",
    "\n",
    "plt.scatter(plot_this.actual, plot_this.pred_MR - plot_this.actual, alpha=0.5, color=\"red\", s=10, label=\"Multiple Linear Regression\")\n",
    "plt.scatter(plot_this.actual, plot_this.pred_glm - plot_this.actual, alpha=0.5, color=\"yellow\", s=10, label=\"TweedieRegressor\")\n",
    "plt.scatter(plot_this.actual, plot_this.pred_pr - plot_this.actual, alpha=0.5, color=\"blue\", s=10, label=\"Polynomial 2nd degree\")\n",
    "\n",
    "plt.legend()\n",
    "plt.title(\"Comparison of Residuals with Actual Values\")\n",
    "plt.xlabel(\"Actual Value\")\n",
    "plt.ylabel(\"Residual: Predicted Value - Actual value\")\n",
    "\n",
    "plt.tight_layout()\n",
    "\n",
    "plt.show()\n"
   ]
  },
  {
   "cell_type": "markdown",
   "id": "17b21bf6",
   "metadata": {},
   "source": [
    "#### histogram of actual and predicted values"
   ]
  },
  {
   "cell_type": "code",
   "execution_count": 206,
   "id": "39cd2421",
   "metadata": {},
   "outputs": [
    {
     "data": {
      "image/png": "[encoded data removed]",
      "text/plain": [
       "<Figure size 640x480 with 1 Axes>"
      ]
     },
     "metadata": {},
     "output_type": "display_data"
    }
   ],
   "source": [
    "plt.hist(plot_this.actual, bins=30, color='blue', alpha=0.7, label=\"Actual\")\n",
    "plt.hist(plot_this.pred_MR, bins=30, color='red', alpha=0.7, label=\"Linear Regression\")\n",
    "plt.hist(plot_this.pred_glm, bins=30, color='yellow', alpha=0.7, label=\"Tweedie Regressor\")\n",
    "plt.hist(plot_this.pred_pr, bins=30, color='green', alpha=0.7, label=\"Polynomial 2nd degree\")\n",
    "\n",
    "plt.xlabel(\"Value\")\n",
    "plt.ylabel(\"Number of Houses\")\n",
    "plt.title(\"Comparison of Distribution: Actual vs Predicted Values\")\n",
    "plt.legend()\n",
    "\n",
    "plt.grid(True, linestyle='--', alpha=0.5)  # Add gridlines\n",
    "\n",
    "plt.show()\n"
   ]
  },
  {
   "cell_type": "code",
   "execution_count": null,
   "id": "1da4cb34",
   "metadata": {},
   "outputs": [],
   "source": []
  },
  {
   "cell_type": "code",
   "execution_count": null,
   "id": "bba4de49",
   "metadata": {},
   "outputs": [],
   "source": []
  }
 ],
 "metadata": {
  "kernelspec": {
   "display_name": "Python 3 (ipykernel)",
   "language": "python",
   "name": "python3"
  },
  "language_info": {
   "codemirror_mode": {
    "name": "ipython",
    "version": 3
   },
   "file_extension": ".py",
   "mimetype": "text/x-python",
   "name": "python",
   "nbconvert_exporter": "python",
   "pygments_lexer": "ipython3",
   "version": "3.9.13"
  }
 },
 "nbformat": 4,
 "nbformat_minor": 5
}
